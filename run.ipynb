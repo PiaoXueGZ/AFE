{
 "cells": [
  {
   "cell_type": "code",
   "execution_count": 7,
   "metadata": {},
   "outputs": [],
   "source": [
    "import numpy as np\n",
    "import random\n",
    "import pandas as pd\n",
    "from sklearn.model_selection import train_test_split\n",
    "from sklearn.linear_model import LogisticRegression\n",
    "from sklearn.metrics import accuracy_score\n",
    "from featureencoder import FeatureEncoder\n",
    "from transformation import FeatureTransformer\n",
    "from Evolution2 import EAAFE"
   ]
  },
  {
   "cell_type": "code",
   "execution_count": 8,
   "metadata": {},
   "outputs": [],
   "source": [
    "transformer = FeatureTransformer()"
   ]
  },
  {
   "cell_type": "code",
   "execution_count": 9,
   "metadata": {},
   "outputs": [
    {
     "name": "stdout",
     "output_type": "stream",
     "text": [
      "(731, 11)\n"
     ]
    }
   ],
   "source": [
    "data = pd.read_csv('day.csv')\n",
    "X = data.iloc[:, 2:13].values\n",
    "y = data.iloc[:, -1].values\n",
    "#X的转置\n",
    "X_T = X.T\n",
    "print(X.shape)"
   ]
  },
  {
   "cell_type": "code",
   "execution_count": 10,
   "metadata": {},
   "outputs": [],
   "source": [
    "eaafe = EAAFE()\n",
    "lb = [3] * 50\n",
    "ub = [11] * 50\n",
    "chrom = eaafe.init_chrom(lb, ub, None, None)\n",
    "#print(chrom)"
   ]
  },
  {
   "cell_type": "code",
   "execution_count": 11,
   "metadata": {},
   "outputs": [
    {
     "name": "stdout",
     "output_type": "stream",
     "text": [
      "(731, 22)\n"
     ]
    }
   ],
   "source": [
    "new_data = transformer.data_transform(chrom[0], X)\n",
    "print(new_data.shape)"
   ]
  },
  {
   "cell_type": "code",
   "execution_count": 12,
   "metadata": {},
   "outputs": [
    {
     "ename": "NameError",
     "evalue": "name 'first' is not defined",
     "output_type": "error",
     "traceback": [
      "\u001b[0;31m---------------------------------------------------------------------------\u001b[0m",
      "\u001b[0;31mNameError\u001b[0m                                 Traceback (most recent call last)",
      "Cell \u001b[0;32mIn[12], line 1\u001b[0m\n\u001b[0;32m----> 1\u001b[0m eaafe\u001b[39m.\u001b[39;49mevolution(chrom, new_data, y)\n",
      "File \u001b[0;32m~/Desktop/pythonProjects/AFE-master/Evolution2.py:63\u001b[0m, in \u001b[0;36mEAAFE.evolution\u001b[0;34m(self, pre_chrom, pre_data, Y)\u001b[0m\n\u001b[1;32m     61\u001b[0m transformer \u001b[39m=\u001b[39m FeatureTransformer()\n\u001b[1;32m     62\u001b[0m \u001b[39mfor\u001b[39;00m i \u001b[39min\u001b[39;00m \u001b[39mrange\u001b[39m(\u001b[39mself\u001b[39m\u001b[39m.\u001b[39mMAXGEN):\n\u001b[0;32m---> 63\u001b[0m     \u001b[39mprint\u001b[39m(first)\n\u001b[1;32m     64\u001b[0m     \u001b[39mprint\u001b[39m(chrom)\n\u001b[1;32m     65\u001b[0m     \u001b[39mfor\u001b[39;00m j \u001b[39min\u001b[39;00m \u001b[39mrange\u001b[39m(\u001b[39mself\u001b[39m\u001b[39m.\u001b[39mNind):\n",
      "\u001b[0;31mNameError\u001b[0m: name 'first' is not defined"
     ]
    }
   ],
   "source": [
    "eaafe.evolution(chrom, new_data, y)"
   ]
  },
  {
   "cell_type": "code",
   "execution_count": null,
   "metadata": {},
   "outputs": [
    {
     "name": "stdout",
     "output_type": "stream",
     "text": [
      "0.0\n",
      "[ 3  5  7  5  5 10  5  4  9  9  7  6  5 10  9  4  5 10  5 10  6  8  6  7\n",
      "  9  6  4  8  4  9 10 10 10]\n"
     ]
    }
   ],
   "source": [
    "print(eaafe.best_fit)\n",
    "print(eaafe.best_gen)"
   ]
  }
 ],
 "metadata": {
  "kernelspec": {
   "display_name": "Python 3",
   "language": "python",
   "name": "python3"
  },
  "language_info": {
   "codemirror_mode": {
    "name": "ipython",
    "version": 3
   },
   "file_extension": ".py",
   "mimetype": "text/x-python",
   "name": "python",
   "nbconvert_exporter": "python",
   "pygments_lexer": "ipython3",
   "version": "3.11.1"
  },
  "orig_nbformat": 4,
  "vscode": {
   "interpreter": {
    "hash": "aee8b7b246df8f9039afb4144a1f6fd8d2ca17a180786b69acc140d282b71a49"
   }
  }
 },
 "nbformat": 4,
 "nbformat_minor": 2
}
